{
 "cells": [
  {
   "cell_type": "code",
   "execution_count": 1,
   "id": "initial_id",
   "metadata": {
    "collapsed": true,
    "ExecuteTime": {
     "end_time": "2024-10-31T12:38:16.705247Z",
     "start_time": "2024-10-31T12:38:16.572981Z"
    }
   },
   "outputs": [
    {
     "ename": "ModuleNotFoundError",
     "evalue": "No module named 'selenium'",
     "output_type": "error",
     "traceback": [
      "\u001B[0;31m---------------------------------------------------------------------------\u001B[0m",
      "\u001B[0;31mModuleNotFoundError\u001B[0m                       Traceback (most recent call last)",
      "Cell \u001B[0;32mIn[1], line 1\u001B[0m\n\u001B[0;32m----> 1\u001B[0m \u001B[38;5;28;01mfrom\u001B[39;00m \u001B[38;5;21;01mselenium\u001B[39;00m \u001B[38;5;28;01mimport\u001B[39;00m webdriver\n\u001B[1;32m      2\u001B[0m \u001B[38;5;28;01mfrom\u001B[39;00m \u001B[38;5;21;01mselenium\u001B[39;00m\u001B[38;5;21;01m.\u001B[39;00m\u001B[38;5;21;01mwebdriver\u001B[39;00m\u001B[38;5;21;01m.\u001B[39;00m\u001B[38;5;21;01mcommon\u001B[39;00m\u001B[38;5;21;01m.\u001B[39;00m\u001B[38;5;21;01mby\u001B[39;00m \u001B[38;5;28;01mimport\u001B[39;00m By\n\u001B[1;32m      3\u001B[0m \u001B[38;5;28;01mfrom\u001B[39;00m \u001B[38;5;21;01mselenium\u001B[39;00m\u001B[38;5;21;01m.\u001B[39;00m\u001B[38;5;21;01mwebdriver\u001B[39;00m\u001B[38;5;21;01m.\u001B[39;00m\u001B[38;5;21;01msupport\u001B[39;00m\u001B[38;5;21;01m.\u001B[39;00m\u001B[38;5;21;01mui\u001B[39;00m \u001B[38;5;28;01mimport\u001B[39;00m WebDriverWait\n",
      "\u001B[0;31mModuleNotFoundError\u001B[0m: No module named 'selenium'"
     ]
    }
   ],
   "source": [
    "from selenium import webdriver\n",
    "from selenium.webdriver.common.by import By\n",
    "from selenium.webdriver.support.ui import WebDriverWait\n",
    "from selenium.webdriver.support import expected_conditions as EC\n",
    "from selenium.webdriver.common.action_chains import ActionChains\n",
    "\n",
    "from data import countries_meta_data\n",
    "from tqdm import tqdm\n",
    "import os\n",
    "import requests\n",
    "\n",
    "driver = webdriver.Chrome()  # Use your specific driver, e.g., Firefox() if using Firefox\n",
    "driver.maximize_window()  # Maximize the browser window\n",
    "driver.get(\"https://health.google.com/covid-19/open-data/raw-data\")\n",
    "\n",
    "data_urls = []\n",
    "\n",
    "try:\n",
    "    # Wrap the range with tqdm to display a progress bar\n",
    "    for i in tqdm(range(247), desc=\"Scraping\"):\n",
    "        # Wait until the mat-chip-option is present\n",
    "        mat_chip_option = WebDriverWait(driver, 100).until(\n",
    "            EC.presence_of_element_located((By.TAG_NAME, \"mat-chip-option\"))\n",
    "        )\n",
    "\n",
    "        # Scroll to the mat-chip-option and click to open the options\n",
    "        actions = ActionChains(driver)\n",
    "        actions.move_to_element(mat_chip_option).click().perform()\n",
    "\n",
    "        # Wait for the dropdown menu to appear\n",
    "        menu_content = WebDriverWait(driver, 100).until(\n",
    "            EC.visibility_of_element_located((By.CLASS_NAME, \"mat-mdc-menu-content\"))\n",
    "        )\n",
    "\n",
    "        # Find all buttons within the menu content div and click the button at index i\n",
    "        buttons = menu_content.find_elements(By.TAG_NAME, \"button\")\n",
    "        if buttons:\n",
    "            buttons[i].click()\n",
    "\n",
    "            # Locate the first element with tag 'copyable-field'\n",
    "            copyable_field = WebDriverWait(driver, 100).until(\n",
    "                EC.presence_of_element_located((By.TAG_NAME, \"copyable-field\"))\n",
    "            )\n",
    "\n",
    "            # Find the first div within the copyable-field\n",
    "            first_div = copyable_field.find_element(By.TAG_NAME, \"div\")\n",
    "            inner_div = first_div.find_element(By.TAG_NAME, \"div\")  # Find the first div within the first div\n",
    "\n",
    "            # Get the content of the innermost div\n",
    "            div_content = inner_div.text\n",
    "            \n",
    "            data_urls.append(div_content)\n",
    "\n",
    "finally:\n",
    "    # Close the driver\n",
    "    driver.quit()\n"
   ]
  },
  {
   "cell_type": "code",
   "execution_count": null,
   "outputs": [],
   "source": [
    "country_codes = [sub_array[4] for sub_array in countries_meta_data if len(sub_array) > 4]\n",
    "\n",
    "len(country_codes)\n",
    "unique_country_codes = list(set(country_codes))\n",
    "# Directory to store the downloaded CSV files\n",
    "os.makedirs('data', exist_ok=True)\n",
    "\n",
    "# Download each CSV file\n",
    "for code in tqdm(unique_country_codes, desc=\"Downloading CSV files\"):\n",
    "    url = f'https://storage.googleapis.com/covid19-open-data/v3/location/{code}.csv'\n",
    "    response = requests.get(url)\n",
    "\n",
    "    # Check if the request was successful\n",
    "    if response.status_code == 200:\n",
    "        file_path = os.path.join('data', f'{code}.csv')\n",
    "        with open(file_path, 'wb') as file:\n",
    "            file.write(response.content)\n",
    "    else:\n",
    "        tqdm.write(f'Failed to download {code}.csv: {response.status_code}')\n"
   ],
   "metadata": {
    "collapsed": false
   },
   "id": "e8351754c5768a9c"
  }
 ],
 "metadata": {
  "kernelspec": {
   "display_name": "Python 3",
   "language": "python",
   "name": "python3"
  },
  "language_info": {
   "codemirror_mode": {
    "name": "ipython",
    "version": 2
   },
   "file_extension": ".py",
   "mimetype": "text/x-python",
   "name": "python",
   "nbconvert_exporter": "python",
   "pygments_lexer": "ipython2",
   "version": "2.7.6"
  }
 },
 "nbformat": 4,
 "nbformat_minor": 5
}
